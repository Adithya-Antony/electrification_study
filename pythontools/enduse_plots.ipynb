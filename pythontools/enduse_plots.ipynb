{
 "cells": [
  {
   "cell_type": "markdown",
   "metadata": {},
   "source": [
    "# Plots for end-uses "
   ]
  },
  {
   "cell_type": "code",
   "execution_count": 8,
   "metadata": {},
   "outputs": [],
   "source": [
    "import csv \n",
    "output_path = \"../output/\""
   ]
  },
  {
   "cell_type": "code",
   "execution_count": 32,
   "metadata": {},
   "outputs": [
    {
     "name": "stdout",
     "output_type": "stream",
     "text": [
      "2020-04-22 08:00:00 PDT\n"
     ]
    }
   ],
   "source": [
    "timestamp=[]\n",
    "real_power = []\n",
    "reactive_power = []\n",
    "with open(output_path+'annual_run_full_electric.csv', newline='', mode='r') as csvfile : \n",
    "    fr = csv.reader(csvfile, delimiter=',', quotechar='|')\n",
    "    for row in fr : \n",
    "        if '#' not in row[0] :\n",
    "            timestamp.append(row[0])\n",
    "            real_power.append(float(row[1].split(' ')[0]))\n",
    "            reactive_power.append(float(row[2].split(' ')[0]))\n",
    "print(timestamp[real_power.index(max(real_power))])\n"
   ]
  },
  {
   "cell_type": "code",
   "execution_count": null,
   "metadata": {},
   "outputs": [],
   "source": []
  },
  {
   "cell_type": "code",
   "execution_count": null,
   "metadata": {},
   "outputs": [],
   "source": []
  }
 ],
 "metadata": {
  "kernelspec": {
   "display_name": "Python 3",
   "language": "python",
   "name": "python3"
  },
  "language_info": {
   "codemirror_mode": {
    "name": "ipython",
    "version": 3
   },
   "file_extension": ".py",
   "mimetype": "text/x-python",
   "name": "python",
   "nbconvert_exporter": "python",
   "pygments_lexer": "ipython3",
   "version": "3.7.0"
  }
 },
 "nbformat": 4,
 "nbformat_minor": 2
}
